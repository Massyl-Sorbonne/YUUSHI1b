{
 "cells": [
  {
   "cell_type": "raw",
   "id": "cf3daa84",
   "metadata": {},
   "source": [
    "Bienvenue, sur Yuushi1, codé et crée par Sad Massyl.Etudiant à Sorbonne-Université en Mathématiques je suis passionné par Tout ce qui est Sql Injection, web scraping ainsi que modelisation en python.\n",
    "Ici, Vous trouverez la version de Yuushi 1 à but documentaire, vous pouvez me contacter sur massyl.sad@icloud.com\n",
    "Extractpaps permet de SCRAP le site web PAPS.\n",
    "Yuushi1mean et yuushi1m2mean permettent de faire les moyennes sur les données acquises. "
   ]
  },
  {
   "cell_type": "code",
   "execution_count": 1,
   "id": "652fdf61",
   "metadata": {},
   "outputs": [
    {
     "name": "stderr",
     "output_type": "stream",
     "text": [
      "[WDM] - Downloading: 100%|██████████| 6.46M/6.46M [00:00<00:00, 11.5MB/s]\n"
     ]
    }
   ],
   "source": [
    "import requests # http requests\n",
    "from bs4 import BeautifulSoup # Webscrape\n",
    "import pandas as pd     # DF\n",
    "import csv\n",
    "import time\n",
    "header = {'user-agent': 'Mozilla/5.0 (Windows NT 10.0; Win64; x64) AppleWebKit/537.36 (KHTML, like Gecko) Chrome/106.0.0.0 Safari/537.36'}\n",
    "url = f'https://www.pap.fr/annonce/vente-appartements-paris-75-g439-studio' #JUST PUT HERE YOUR URL AFTER SEARCH ON PAP'S\n",
    "from urllib.request import Request, urlopen\n",
    "from selenium import webdriver\n",
    "from webdriver_manager.chrome import ChromeDriverManager\n",
    "import pandas as pd \n",
    "from selenium.webdriver.support.ui import WebDriverWait\n",
    "from selenium.webdriver.common.by import By\n",
    "from selenium.webdriver.support import expected_conditions as EC\n",
    "driver= webdriver.Chrome(ChromeDriverManager().install())\n",
    "import numpy\n",
    "import string\n",
    "import re"
   ]
  },
  {
   "cell_type": "code",
   "execution_count": 26,
   "id": "76540725",
   "metadata": {},
   "outputs": [],
   "source": [
    "def extractpaps(taille):\n",
    "    #On recupére l'url sur sln et on execute un scrollbar en JS \n",
    "    driver.get(url)\n",
    "    time.sleep(5)\n",
    "    for i in range (0,taille):# 15 -240   30 - 345 1 environ = à 15 annonces dont 12 annonces de logement\n",
    "        driver.execute_script(\"window.scrollTo(0,document.body.scrollHeight)\")\n",
    "        time.sleep(3)  \n",
    "    html1= BeautifulSoup(driver.page_source,\"html.parser\")\n",
    "    Items = html1.find_all(\"div\", class_=\"search-list-item-alt\") # Recherches des soups par div et class \n",
    "    \n",
    "    \n",
    "    parameters = ['Titre','Prix','Descriptions','Taille','m^2']\n",
    "    df = pd.DataFrame(columns=parameters)\n",
    "    i=0\n",
    "    #INDEXATION\n",
    "    for item in Items:\n",
    "        i = i + 1\n",
    "        Price= item.find('span', class_=\"item-price\")\n",
    "        Titre= item.find('span', class_=\"h1\")\n",
    "        taille = item.find_all('li')\n",
    "        Desc= item.find('p', class_=\"item-description\")\n",
    "        l=[]\n",
    "        l.append(Titre.get_text().strip())\n",
    "        l.append(Price.get_text().strip()) \n",
    "        l.append(Desc.get_text().strip())\n",
    "        for e in taille:\n",
    "            l.append(e.get_text().strip())\n",
    "        if len(l) == 5 :\n",
    "            df.loc[i]=l\n",
    "        if len(l)== 4 :\n",
    "            l.append('None')\n",
    "            df.loc[i]=l\n",
    "        if len(l) == 3 :\n",
    "            l.append('None')\n",
    "            l.append('None')\n",
    "            df.loc[i]=l\n",
    "    #EXCEL WRIT        \n",
    "    exelwrit = pd.ExcelWriter('output.xlsx')   \n",
    "    df.to_excel(\n",
    "        exelwrit,  index=True, index_label=None, startrow=0, startcol=0,)\n",
    "\n",
    "    exelwrit.close()\n",
    "    print(\"Vous trouverez un fichier output.xlsx comprenant tout ce qui est dans DATA, toutes les annonces extraites de votre recherche \")\n",
    "    return df"
   ]
  },
  {
   "cell_type": "code",
   "execution_count": 18,
   "id": "0dd470c5",
   "metadata": {},
   "outputs": [],
   "source": [
    "data = extractpaps(30)"
   ]
  },
  {
   "cell_type": "raw",
   "id": "a84bd7c2",
   "metadata": {},
   "source": []
  },
  {
   "cell_type": "code",
   "execution_count": 19,
   "id": "a36481ee",
   "metadata": {},
   "outputs": [
    {
     "data": {
      "text/html": [
       "<div>\n",
       "<style scoped>\n",
       "    .dataframe tbody tr th:only-of-type {\n",
       "        vertical-align: middle;\n",
       "    }\n",
       "\n",
       "    .dataframe tbody tr th {\n",
       "        vertical-align: top;\n",
       "    }\n",
       "\n",
       "    .dataframe thead th {\n",
       "        text-align: right;\n",
       "    }\n",
       "</style>\n",
       "<table border=\"1\" class=\"dataframe\">\n",
       "  <thead>\n",
       "    <tr style=\"text-align: right;\">\n",
       "      <th></th>\n",
       "      <th>Titre</th>\n",
       "      <th>Prix</th>\n",
       "      <th>Descriptions</th>\n",
       "      <th>Taille</th>\n",
       "      <th>m^2</th>\n",
       "    </tr>\n",
       "  </thead>\n",
       "  <tbody>\n",
       "    <tr>\n",
       "      <th>1</th>\n",
       "      <td>Paris 16E (75116)</td>\n",
       "      <td>500.000 €</td>\n",
       "      <td>Très beau studio de 33 m² dans une résidence l...</td>\n",
       "      <td>1 pièce</td>\n",
       "      <td>33.00 m2</td>\n",
       "    </tr>\n",
       "    <tr>\n",
       "      <th>2</th>\n",
       "      <td>Paris 8E (75008)</td>\n",
       "      <td>175.000 €</td>\n",
       "      <td>Rue de Saint Petersbourg, à 200 mètres du métr...</td>\n",
       "      <td>1 pièce</td>\n",
       "      <td>15.00 m2</td>\n",
       "    </tr>\n",
       "    <tr>\n",
       "      <th>3</th>\n",
       "      <td>Paris 13E</td>\n",
       "      <td>260.000 €</td>\n",
       "      <td>**10 villa d'Est. Tour Atlas Paris 13ème**\\n**...</td>\n",
       "      <td>1 pièce</td>\n",
       "      <td>34.00 m2</td>\n",
       "    </tr>\n",
       "    <tr>\n",
       "      <th>4</th>\n",
       "      <td>Lutte anti-fraude</td>\n",
       "      <td>PAP contrôle toutes les annonces</td>\n",
       "      <td>Avant de publier une annonce, nos équipes effe...</td>\n",
       "      <td>None</td>\n",
       "      <td>None</td>\n",
       "    </tr>\n",
       "    <tr>\n",
       "      <th>5</th>\n",
       "      <td>Paris 19E (75019)</td>\n",
       "      <td>249.500 €</td>\n",
       "      <td>Dans rue calme, studio au 4 ème étage d'un imm...</td>\n",
       "      <td>1 pièce</td>\n",
       "      <td>23.00 m2</td>\n",
       "    </tr>\n",
       "    <tr>\n",
       "      <th>...</th>\n",
       "      <td>...</td>\n",
       "      <td>...</td>\n",
       "      <td>...</td>\n",
       "      <td>...</td>\n",
       "      <td>...</td>\n",
       "    </tr>\n",
       "    <tr>\n",
       "      <th>341</th>\n",
       "      <td>Paris 14E (75014)</td>\n",
       "      <td>112.000 €</td>\n",
       "      <td>Métro Pernety et nombreux autobus à 5min, proc...</td>\n",
       "      <td>1 pièce</td>\n",
       "      <td>9.85 m2</td>\n",
       "    </tr>\n",
       "    <tr>\n",
       "      <th>342</th>\n",
       "      <td>Et si vous étiez éligible au logement interméd...</td>\n",
       "      <td></td>\n",
       "      <td>Utilisez notre simulateur pour accéder à des o...</td>\n",
       "      <td>None</td>\n",
       "      <td>None</td>\n",
       "    </tr>\n",
       "    <tr>\n",
       "      <th>343</th>\n",
       "      <td>Paris 13E</td>\n",
       "      <td>260.000 €</td>\n",
       "      <td>**10 villa d'Est. Tour Atlas Paris 13ème**\\n**...</td>\n",
       "      <td>1 pièce</td>\n",
       "      <td>34.00 m2</td>\n",
       "    </tr>\n",
       "    <tr>\n",
       "      <th>344</th>\n",
       "      <td>Paris 15E (75015)</td>\n",
       "      <td>242.000 €</td>\n",
       "      <td>**SOUS COMPROMIS**\\n\\n**Très bien situé, au se...</td>\n",
       "      <td>1 pièce</td>\n",
       "      <td>22.00 m2</td>\n",
       "    </tr>\n",
       "    <tr>\n",
       "      <th>345</th>\n",
       "      <td>Paris 6E (75006)</td>\n",
       "      <td>375.000 €</td>\n",
       "      <td>**St-Germain-des-Prés-Odéon**.\\n\\nDans une jol...</td>\n",
       "      <td>1 pièce</td>\n",
       "      <td>23.00 m2</td>\n",
       "    </tr>\n",
       "  </tbody>\n",
       "</table>\n",
       "<p>307 rows × 5 columns</p>\n",
       "</div>"
      ],
      "text/plain": [
       "                                                 Titre  \\\n",
       "1                                    Paris 16E (75116)   \n",
       "2                                     Paris 8E (75008)   \n",
       "3                                            Paris 13E   \n",
       "4                                    Lutte anti-fraude   \n",
       "5                                    Paris 19E (75019)   \n",
       "..                                                 ...   \n",
       "341                                  Paris 14E (75014)   \n",
       "342  Et si vous étiez éligible au logement interméd...   \n",
       "343                                          Paris 13E   \n",
       "344                                  Paris 15E (75015)   \n",
       "345                                   Paris 6E (75006)   \n",
       "\n",
       "                                 Prix  \\\n",
       "1                           500.000 €   \n",
       "2                           175.000 €   \n",
       "3                           260.000 €   \n",
       "4    PAP contrôle toutes les annonces   \n",
       "5                           249.500 €   \n",
       "..                                ...   \n",
       "341                         112.000 €   \n",
       "342                                     \n",
       "343                         260.000 €   \n",
       "344                         242.000 €   \n",
       "345                         375.000 €   \n",
       "\n",
       "                                          Descriptions   Taille       m^2  \n",
       "1    Très beau studio de 33 m² dans une résidence l...  1 pièce  33.00 m2  \n",
       "2    Rue de Saint Petersbourg, à 200 mètres du métr...  1 pièce  15.00 m2  \n",
       "3    **10 villa d'Est. Tour Atlas Paris 13ème**\\n**...  1 pièce  34.00 m2  \n",
       "4    Avant de publier une annonce, nos équipes effe...     None      None  \n",
       "5    Dans rue calme, studio au 4 ème étage d'un imm...  1 pièce  23.00 m2  \n",
       "..                                                 ...      ...       ...  \n",
       "341  Métro Pernety et nombreux autobus à 5min, proc...  1 pièce   9.85 m2  \n",
       "342  Utilisez notre simulateur pour accéder à des o...     None      None  \n",
       "343  **10 villa d'Est. Tour Atlas Paris 13ème**\\n**...  1 pièce  34.00 m2  \n",
       "344  **SOUS COMPROMIS**\\n\\n**Très bien situé, au se...  1 pièce  22.00 m2  \n",
       "345  **St-Germain-des-Prés-Odéon**.\\n\\nDans une jol...  1 pièce  23.00 m2  \n",
       "\n",
       "[307 rows x 5 columns]"
      ]
     },
     "execution_count": 19,
     "metadata": {},
     "output_type": "execute_result"
    }
   ],
   "source": [
    "data # Lire DATA, vous trouverez les data entieres dans output.xlsx"
   ]
  },
  {
   "cell_type": "code",
   "execution_count": 20,
   "id": "d677d651",
   "metadata": {},
   "outputs": [],
   "source": [
    "def Yuushi1mean(data):\n",
    "    \n",
    "    PRICE = data.iloc[:,1]\n",
    "    \n",
    "    # transformer en int \n",
    "    prix = list()\n",
    "    for e in PRICE :\n",
    "        nombres = re.findall(\"\\d+\", e) # recherche tous les décimals\n",
    "        if len(nombres) < 2 :\n",
    "            pricee = 0\n",
    "            prix.append(0)\n",
    "        else :\n",
    "            pricee= nombres[0] + nombres[1]\n",
    "            prix.append(int(pricee))\n",
    "        #suppression des zeroooes\n",
    "        for e in prix:\n",
    "            if e == 0:\n",
    "                prix.remove(e)\n",
    "   # print(prix) # Les prix des logements valides \n",
    "    print('Nombre de prix de logement valide :')\n",
    "    print(len(prix)) #Nombre de logement \n",
    "    print ('Prix moyen de votre recherche :')\n",
    "    return numpy.mean(prix) #moyenne du prix de votre recherche \n",
    "        \n",
    "    "
   ]
  },
  {
   "cell_type": "code",
   "execution_count": 21,
   "id": "0625362d",
   "metadata": {},
   "outputs": [
    {
     "name": "stdout",
     "output_type": "stream",
     "text": [
      "Nombre de prix de logement valide :\n",
      "263\n",
      "Prix moyen de votre recherche :\n"
     ]
    },
    {
     "data": {
      "text/plain": [
       "253264.95057034222"
      ]
     },
     "execution_count": 21,
     "metadata": {},
     "output_type": "execute_result"
    }
   ],
   "source": [
    "Yuushi1mean(data)"
   ]
  },
  {
   "cell_type": "code",
   "execution_count": 24,
   "id": "8ee8cd6e",
   "metadata": {},
   "outputs": [],
   "source": [
    "def Yuushi1m2mean():\n",
    "    GRLIST = data.iloc[:,4]\n",
    "    \n",
    "    # transformer en int \n",
    "    m2 = list()\n",
    "    for e in GRLIST :\n",
    "        nombres = re.findall(\"\\d+\", e) # recherche tous les décimals\n",
    "        if len(nombres) < 1 :\n",
    "            m2.append(0)\n",
    "        else :\n",
    "            metr= nombres[0] \n",
    "            m2.append(int(metr))\n",
    "        \n",
    "        #suppr des zerooso\n",
    "        for e in m2:\n",
    "            if e ==0: \n",
    "                m2.remove(e)\n",
    "   # print (m2)\n",
    "    print('Nombre de m**2 de logement valide : (pub et logement sans taille non inclus dans le compte)') \n",
    "    print (len(m2))\n",
    "    print ('Taille moyenne de votre recherche en m**2 :')\n",
    "    return numpy.mean(m2) "
   ]
  },
  {
   "cell_type": "code",
   "execution_count": 25,
   "id": "0918e62e",
   "metadata": {
    "scrolled": true
   },
   "outputs": [
    {
     "name": "stdout",
     "output_type": "stream",
     "text": [
      "Nombre de m**2 de logement valide : (pub et logement sans taille non inclus dans le compte)\n",
      "260\n",
      "Taille moyenne de votre recherche en m**2 :\n"
     ]
    },
    {
     "data": {
      "text/plain": [
       "20.25"
      ]
     },
     "execution_count": 25,
     "metadata": {},
     "output_type": "execute_result"
    }
   ],
   "source": [
    "Yuushi1m2mean()"
   ]
  },
  {
   "cell_type": "raw",
   "id": "d90ffc97",
   "metadata": {},
   "source": [
    "Vous pouvez améliorer yuushi1b facilement, n'hesiter pas à m'envoyer vos améliorations ou de nouvelles fonctions du notebook Yuushi sur l'email : <massyl.sadoudi@etu.upmc.fr>; "
   ]
  }
 ],
 "metadata": {
  "kernelspec": {
   "display_name": "Python 3 (ipykernel)",
   "language": "python",
   "name": "python3"
  },
  "language_info": {
   "codemirror_mode": {
    "name": "ipython",
    "version": 3
   },
   "file_extension": ".py",
   "mimetype": "text/x-python",
   "name": "python",
   "nbconvert_exporter": "python",
   "pygments_lexer": "ipython3",
   "version": "3.9.13"
  }
 },
 "nbformat": 4,
 "nbformat_minor": 5
}
